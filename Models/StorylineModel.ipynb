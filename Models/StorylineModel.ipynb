{
  "nbformat": 4,
  "nbformat_minor": 0,
  "metadata": {
    "colab": {
      "provenance": [],
      "gpuType": "V28"
    },
    "kernelspec": {
      "name": "python3",
      "display_name": "Python 3"
    },
    "language_info": {
      "name": "python"
    },
    "accelerator": "TPU"
  },
  "cells": [
    {
      "cell_type": "code",
      "execution_count": 1,
      "metadata": {
        "id": "qSl43Tv7KzcU"
      },
      "outputs": [],
      "source": [
        "import pandas as pd\n",
        "import numpy as np\n",
        "import pickle\n",
        "from sklearn.feature_extraction.text import TfidfVectorizer\n",
        "from sklearn.decomposition import TruncatedSVD\n",
        "from sklearn.metrics.pairwise import cosine_similarity\n",
        "\n",
        "tfidf = TfidfVectorizer(stop_words='english')\n",
        "svd = TruncatedSVD(n_components=200, random_state=42)"
      ]
    },
    {
      "cell_type": "markdown",
      "source": [
        "#Storyline"
      ],
      "metadata": {
        "id": "n6XC7wc6_4tR"
      }
    },
    {
      "cell_type": "code",
      "source": [
        "movies = pd.read_csv(\"/content/drive/MyDrive/Storyline.csv\")"
      ],
      "metadata": {
        "id": "8i-eXXTrK8Tr"
      },
      "execution_count": 2,
      "outputs": []
    },
    {
      "cell_type": "code",
      "source": [
        "movies['tags'][0]"
      ],
      "metadata": {
        "colab": {
          "base_uri": "https://localhost:8080/",
          "height": 88
        },
        "id": "qyo48XVqK8Qb",
        "outputId": "3c099ca2-4b6b-4934-877a-e320d2cea393"
      },
      "execution_count": 3,
      "outputs": [
        {
          "output_type": "execute_result",
          "data": {
            "text/plain": [
              "'cobb, a skill thief who commit corpor espionag by infiltr the subconsci of hi target is offer a chanc to regain hi old life as payment for a task consid to be impossible: \"inception\", the implant of anoth person\\' idea into a target\\' subconscious. action sciencefict adventur rescu mission dream airplan pari franc virtualr kidnap philosophi spi allegori manipul carcrash heist memori architectur losangel california dreamworld subconsci dileeprao leonardodicaprio johnathangear christophernolan'"
            ],
            "application/vnd.google.colaboratory.intrinsic+json": {
              "type": "string"
            }
          },
          "metadata": {},
          "execution_count": 3
        }
      ]
    },
    {
      "cell_type": "code",
      "source": [
        "vector = tfidf.fit_transform(movies['tags'])\n",
        "vector.shape"
      ],
      "metadata": {
        "colab": {
          "base_uri": "https://localhost:8080/"
        },
        "id": "Wc_ZonmCK8N8",
        "outputId": "edeb2f20-bb24-4ef7-94dd-1f70ad6754d1"
      },
      "execution_count": 4,
      "outputs": [
        {
          "output_type": "execute_result",
          "data": {
            "text/plain": [
              "(157262, 472546)"
            ]
          },
          "metadata": {},
          "execution_count": 4
        }
      ]
    },
    {
      "cell_type": "code",
      "source": [
        "vector = svd.fit_transform(vector)\n",
        "vector.shape"
      ],
      "metadata": {
        "colab": {
          "base_uri": "https://localhost:8080/"
        },
        "id": "WcEnmkHcK8Lh",
        "outputId": "3f477012-33b5-4c19-e17f-d9a801cb01ac"
      },
      "execution_count": 5,
      "outputs": [
        {
          "output_type": "execute_result",
          "data": {
            "text/plain": [
              "(157262, 200)"
            ]
          },
          "metadata": {},
          "execution_count": 5
        }
      ]
    },
    {
      "cell_type": "code",
      "source": [
        "similarity = cosine_similarity(vector)"
      ],
      "metadata": {
        "id": "n8ahGtIfK8JI"
      },
      "execution_count": 6,
      "outputs": []
    },
    {
      "cell_type": "code",
      "source": [
        "similarity"
      ],
      "metadata": {
        "colab": {
          "base_uri": "https://localhost:8080/"
        },
        "id": "94hVCVOlK8G0",
        "outputId": "a467e377-c805-4185-a7d4-69c4c6655881"
      },
      "execution_count": 7,
      "outputs": [
        {
          "output_type": "execute_result",
          "data": {
            "text/plain": [
              "array([[1.        , 0.29058203, 0.20775534, ..., 0.10365966, 0.04093003,\n",
              "        0.0453864 ],\n",
              "       [0.29058203, 1.        , 0.03818294, ..., 0.02786701, 0.01161622,\n",
              "        0.02183104],\n",
              "       [0.20775534, 0.03818294, 1.        , ..., 0.01267307, 0.19186452,\n",
              "        0.04525081],\n",
              "       ...,\n",
              "       [0.10365966, 0.02786701, 0.01267307, ..., 1.        , 0.00695493,\n",
              "        0.25799405],\n",
              "       [0.04093003, 0.01161622, 0.19186452, ..., 0.00695493, 1.        ,\n",
              "        0.06711009],\n",
              "       [0.0453864 , 0.02183104, 0.04525081, ..., 0.25799405, 0.06711009,\n",
              "        1.        ]])"
            ]
          },
          "metadata": {},
          "execution_count": 7
        }
      ]
    },
    {
      "cell_type": "code",
      "source": [
        "similarity.shape"
      ],
      "metadata": {
        "colab": {
          "base_uri": "https://localhost:8080/"
        },
        "id": "a10aXYE4K8EU",
        "outputId": "258fc996-a91d-4355-8e73-2c524050d45f"
      },
      "execution_count": 8,
      "outputs": [
        {
          "output_type": "execute_result",
          "data": {
            "text/plain": [
              "(157262, 157262)"
            ]
          },
          "metadata": {},
          "execution_count": 8
        }
      ]
    },
    {
      "cell_type": "code",
      "source": [
        "top_n = 25\n",
        "updated_similarity = np.zeros((similarity.shape[0], top_n), dtype=int)\n",
        "updated_similarity.shape"
      ],
      "metadata": {
        "colab": {
          "base_uri": "https://localhost:8080/"
        },
        "id": "iwgkteeA4jDC",
        "outputId": "77a838a7-2bc2-4e1a-d5dd-207e7e68cad3"
      },
      "execution_count": 9,
      "outputs": [
        {
          "output_type": "execute_result",
          "data": {
            "text/plain": [
              "(157262, 25)"
            ]
          },
          "metadata": {},
          "execution_count": 9
        }
      ]
    },
    {
      "cell_type": "code",
      "source": [
        "for i in range(similarity.shape[0]):\n",
        "    sorted_indices = np.argsort(-similarity[i])[:top_n]\n",
        "    updated_similarity[i] = sorted_indices"
      ],
      "metadata": {
        "id": "aWgPwNL641JV"
      },
      "execution_count": 10,
      "outputs": []
    },
    {
      "cell_type": "code",
      "source": [
        "updated_similarity[101]"
      ],
      "metadata": {
        "colab": {
          "base_uri": "https://localhost:8080/"
        },
        "id": "KBQJhiV--9hA",
        "outputId": "ef9b5547-6d25-4a2d-8a54-346d64137fb6"
      },
      "execution_count": 11,
      "outputs": [
        {
          "output_type": "execute_result",
          "data": {
            "text/plain": [
              "array([   101,  29492,     97,   9853,    875,  52568, 129088,   4210,\n",
              "          335,  41074,  25253,   2668,   1169,  18329,  29838,    243,\n",
              "        90661,  21574,   7275,   7866,  44060,    597,  64941, 141038,\n",
              "        18650])"
            ]
          },
          "metadata": {},
          "execution_count": 11
        }
      ]
    },
    {
      "cell_type": "code",
      "source": [
        "updated_similarity.shape"
      ],
      "metadata": {
        "colab": {
          "base_uri": "https://localhost:8080/"
        },
        "id": "uUadoKug71j4",
        "outputId": "6ccab896-7804-419c-f21c-8b0ff7d9520b"
      },
      "execution_count": 12,
      "outputs": [
        {
          "output_type": "execute_result",
          "data": {
            "text/plain": [
              "(157262, 25)"
            ]
          },
          "metadata": {},
          "execution_count": 12
        }
      ]
    },
    {
      "cell_type": "code",
      "source": [
        "def movie_recommend(movie):\n",
        "    movie_index = movies[movies['title'] == movie].index[0]\n",
        "    recommended_indices = updated_similarity[movie_index][:10]\n",
        "\n",
        "    for i in recommended_indices:\n",
        "        print(movies.iloc[i].title)"
      ],
      "metadata": {
        "id": "KLpJL6yy40_F"
      },
      "execution_count": 13,
      "outputs": []
    },
    {
      "cell_type": "code",
      "source": [
        "movie_recommend('Around the World in 80 Days')"
      ],
      "metadata": {
        "colab": {
          "base_uri": "https://localhost:8080/"
        },
        "id": "VxA13KU15f4Q",
        "outputId": "796ef1e2-e4e6-4933-8b15-4817f5786dbc"
      },
      "execution_count": 14,
      "outputs": [
        {
          "output_type": "stream",
          "name": "stdout",
          "text": [
            "Around the World in 80 Days\n",
            "A View to a Kill\n",
            "Sherlock Holmes: A Game of Shadows\n",
            "Bean\n",
            "A Tale of Two Cities\n",
            "Argoman the Fantastic Superman\n",
            "The Beloved Rogue\n",
            "The Four Musketeers\n",
            "Gold for the Caesars\n",
            "Black Venus\n"
          ]
        }
      ]
    },
    {
      "cell_type": "code",
      "source": [
        "with open('/content/drive/MyDrive/storyline_similarity.pkl', 'wb') as file:\n",
        "    pickle.dump(updated_similarity, file)"
      ],
      "metadata": {
        "id": "F8PMR_bT5f02"
      },
      "execution_count": 15,
      "outputs": []
    }
  ]
}