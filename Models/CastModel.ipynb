{
  "nbformat": 4,
  "nbformat_minor": 0,
  "metadata": {
    "colab": {
      "provenance": [],
      "gpuType": "V28"
    },
    "kernelspec": {
      "name": "python3",
      "display_name": "Python 3"
    },
    "language_info": {
      "name": "python"
    },
    "accelerator": "TPU"
  },
  "cells": [
    {
      "cell_type": "code",
      "source": [
        "from google.colab import drive\n",
        "drive.mount('/content/drive')"
      ],
      "metadata": {
        "colab": {
          "base_uri": "https://localhost:8080/"
        },
        "id": "ta7Jl7I9nvJY",
        "outputId": "aee9ceb2-5367-42fc-fe22-d3c8cb30fbdc"
      },
      "execution_count": 1,
      "outputs": [
        {
          "output_type": "stream",
          "name": "stdout",
          "text": [
            "Mounted at /content/drive\n"
          ]
        }
      ]
    },
    {
      "cell_type": "code",
      "execution_count": 43,
      "metadata": {
        "id": "qSl43Tv7KzcU"
      },
      "outputs": [],
      "source": [
        "import pandas as pd\n",
        "import numpy as np\n",
        "import pickle\n",
        "from sklearn.feature_extraction.text import TfidfVectorizer\n",
        "from sklearn.metrics.pairwise import cosine_similarity\n",
        "\n",
        "tfidf = TfidfVectorizer(stop_words='english', max_features=150000)"
      ]
    },
    {
      "cell_type": "markdown",
      "source": [
        "# Cast"
      ],
      "metadata": {
        "id": "n6XC7wc6_4tR"
      }
    },
    {
      "cell_type": "code",
      "source": [
        "movies = pd.read_csv(\"/content/drive/MyDrive/Cast.csv\")"
      ],
      "metadata": {
        "id": "8i-eXXTrK8Tr"
      },
      "execution_count": 44,
      "outputs": []
    },
    {
      "cell_type": "code",
      "source": [
        "movies.head()"
      ],
      "metadata": {
        "id": "7Im14cERhzrd",
        "colab": {
          "base_uri": "https://localhost:8080/",
          "height": 206
        },
        "outputId": "76eefefc-dcdc-4f46-f256-f288928aaba6"
      },
      "execution_count": 45,
      "outputs": [
        {
          "output_type": "execute_result",
          "data": {
            "text/plain": [
              "       id    imdb_id            title  \\\n",
              "0   27205  tt1375666        Inception   \n",
              "1  157336  tt0816692     Interstellar   \n",
              "2     155  tt0468569  The Dark Knight   \n",
              "3   19995  tt0499549           Avatar   \n",
              "4   24428  tt0848228     The Avengers   \n",
              "\n",
              "                                                tags  \n",
              "0  dileeprao leonardodicaprio johnathangear magnu...  \n",
              "1  floranolan billirwin annehathaway mackenziefoy...  \n",
              "2  williamfichtn maritzacabrera michaelcain willi...  \n",
              "3  chrismala jodielandau aliciavela-bailey julene...  \n",
              "4  damionpoiti hankamo ashleyjohnson jerryleetuck...  "
            ],
            "text/html": [
              "\n",
              "  <div id=\"df-29051ed6-f36c-426c-9575-bb1bb8e0d1fc\" class=\"colab-df-container\">\n",
              "    <div>\n",
              "<style scoped>\n",
              "    .dataframe tbody tr th:only-of-type {\n",
              "        vertical-align: middle;\n",
              "    }\n",
              "\n",
              "    .dataframe tbody tr th {\n",
              "        vertical-align: top;\n",
              "    }\n",
              "\n",
              "    .dataframe thead th {\n",
              "        text-align: right;\n",
              "    }\n",
              "</style>\n",
              "<table border=\"1\" class=\"dataframe\">\n",
              "  <thead>\n",
              "    <tr style=\"text-align: right;\">\n",
              "      <th></th>\n",
              "      <th>id</th>\n",
              "      <th>imdb_id</th>\n",
              "      <th>title</th>\n",
              "      <th>tags</th>\n",
              "    </tr>\n",
              "  </thead>\n",
              "  <tbody>\n",
              "    <tr>\n",
              "      <th>0</th>\n",
              "      <td>27205</td>\n",
              "      <td>tt1375666</td>\n",
              "      <td>Inception</td>\n",
              "      <td>dileeprao leonardodicaprio johnathangear magnu...</td>\n",
              "    </tr>\n",
              "    <tr>\n",
              "      <th>1</th>\n",
              "      <td>157336</td>\n",
              "      <td>tt0816692</td>\n",
              "      <td>Interstellar</td>\n",
              "      <td>floranolan billirwin annehathaway mackenziefoy...</td>\n",
              "    </tr>\n",
              "    <tr>\n",
              "      <th>2</th>\n",
              "      <td>155</td>\n",
              "      <td>tt0468569</td>\n",
              "      <td>The Dark Knight</td>\n",
              "      <td>williamfichtn maritzacabrera michaelcain willi...</td>\n",
              "    </tr>\n",
              "    <tr>\n",
              "      <th>3</th>\n",
              "      <td>19995</td>\n",
              "      <td>tt0499549</td>\n",
              "      <td>Avatar</td>\n",
              "      <td>chrismala jodielandau aliciavela-bailey julene...</td>\n",
              "    </tr>\n",
              "    <tr>\n",
              "      <th>4</th>\n",
              "      <td>24428</td>\n",
              "      <td>tt0848228</td>\n",
              "      <td>The Avengers</td>\n",
              "      <td>damionpoiti hankamo ashleyjohnson jerryleetuck...</td>\n",
              "    </tr>\n",
              "  </tbody>\n",
              "</table>\n",
              "</div>\n",
              "    <div class=\"colab-df-buttons\">\n",
              "\n",
              "  <div class=\"colab-df-container\">\n",
              "    <button class=\"colab-df-convert\" onclick=\"convertToInteractive('df-29051ed6-f36c-426c-9575-bb1bb8e0d1fc')\"\n",
              "            title=\"Convert this dataframe to an interactive table.\"\n",
              "            style=\"display:none;\">\n",
              "\n",
              "  <svg xmlns=\"http://www.w3.org/2000/svg\" height=\"24px\" viewBox=\"0 -960 960 960\">\n",
              "    <path d=\"M120-120v-720h720v720H120Zm60-500h600v-160H180v160Zm220 220h160v-160H400v160Zm0 220h160v-160H400v160ZM180-400h160v-160H180v160Zm440 0h160v-160H620v160ZM180-180h160v-160H180v160Zm440 0h160v-160H620v160Z\"/>\n",
              "  </svg>\n",
              "    </button>\n",
              "\n",
              "  <style>\n",
              "    .colab-df-container {\n",
              "      display:flex;\n",
              "      gap: 12px;\n",
              "    }\n",
              "\n",
              "    .colab-df-convert {\n",
              "      background-color: #E8F0FE;\n",
              "      border: none;\n",
              "      border-radius: 50%;\n",
              "      cursor: pointer;\n",
              "      display: none;\n",
              "      fill: #1967D2;\n",
              "      height: 32px;\n",
              "      padding: 0 0 0 0;\n",
              "      width: 32px;\n",
              "    }\n",
              "\n",
              "    .colab-df-convert:hover {\n",
              "      background-color: #E2EBFA;\n",
              "      box-shadow: 0px 1px 2px rgba(60, 64, 67, 0.3), 0px 1px 3px 1px rgba(60, 64, 67, 0.15);\n",
              "      fill: #174EA6;\n",
              "    }\n",
              "\n",
              "    .colab-df-buttons div {\n",
              "      margin-bottom: 4px;\n",
              "    }\n",
              "\n",
              "    [theme=dark] .colab-df-convert {\n",
              "      background-color: #3B4455;\n",
              "      fill: #D2E3FC;\n",
              "    }\n",
              "\n",
              "    [theme=dark] .colab-df-convert:hover {\n",
              "      background-color: #434B5C;\n",
              "      box-shadow: 0px 1px 3px 1px rgba(0, 0, 0, 0.15);\n",
              "      filter: drop-shadow(0px 1px 2px rgba(0, 0, 0, 0.3));\n",
              "      fill: #FFFFFF;\n",
              "    }\n",
              "  </style>\n",
              "\n",
              "    <script>\n",
              "      const buttonEl =\n",
              "        document.querySelector('#df-29051ed6-f36c-426c-9575-bb1bb8e0d1fc button.colab-df-convert');\n",
              "      buttonEl.style.display =\n",
              "        google.colab.kernel.accessAllowed ? 'block' : 'none';\n",
              "\n",
              "      async function convertToInteractive(key) {\n",
              "        const element = document.querySelector('#df-29051ed6-f36c-426c-9575-bb1bb8e0d1fc');\n",
              "        const dataTable =\n",
              "          await google.colab.kernel.invokeFunction('convertToInteractive',\n",
              "                                                    [key], {});\n",
              "        if (!dataTable) return;\n",
              "\n",
              "        const docLinkHtml = 'Like what you see? Visit the ' +\n",
              "          '<a target=\"_blank\" href=https://colab.research.google.com/notebooks/data_table.ipynb>data table notebook</a>'\n",
              "          + ' to learn more about interactive tables.';\n",
              "        element.innerHTML = '';\n",
              "        dataTable['output_type'] = 'display_data';\n",
              "        await google.colab.output.renderOutput(dataTable, element);\n",
              "        const docLink = document.createElement('div');\n",
              "        docLink.innerHTML = docLinkHtml;\n",
              "        element.appendChild(docLink);\n",
              "      }\n",
              "    </script>\n",
              "  </div>\n",
              "\n",
              "\n",
              "<div id=\"df-3c2032d6-20a2-499d-90af-164c1e44208a\">\n",
              "  <button class=\"colab-df-quickchart\" onclick=\"quickchart('df-3c2032d6-20a2-499d-90af-164c1e44208a')\"\n",
              "            title=\"Suggest charts\"\n",
              "            style=\"display:none;\">\n",
              "\n",
              "<svg xmlns=\"http://www.w3.org/2000/svg\" height=\"24px\"viewBox=\"0 0 24 24\"\n",
              "     width=\"24px\">\n",
              "    <g>\n",
              "        <path d=\"M19 3H5c-1.1 0-2 .9-2 2v14c0 1.1.9 2 2 2h14c1.1 0 2-.9 2-2V5c0-1.1-.9-2-2-2zM9 17H7v-7h2v7zm4 0h-2V7h2v10zm4 0h-2v-4h2v4z\"/>\n",
              "    </g>\n",
              "</svg>\n",
              "  </button>\n",
              "\n",
              "<style>\n",
              "  .colab-df-quickchart {\n",
              "      --bg-color: #E8F0FE;\n",
              "      --fill-color: #1967D2;\n",
              "      --hover-bg-color: #E2EBFA;\n",
              "      --hover-fill-color: #174EA6;\n",
              "      --disabled-fill-color: #AAA;\n",
              "      --disabled-bg-color: #DDD;\n",
              "  }\n",
              "\n",
              "  [theme=dark] .colab-df-quickchart {\n",
              "      --bg-color: #3B4455;\n",
              "      --fill-color: #D2E3FC;\n",
              "      --hover-bg-color: #434B5C;\n",
              "      --hover-fill-color: #FFFFFF;\n",
              "      --disabled-bg-color: #3B4455;\n",
              "      --disabled-fill-color: #666;\n",
              "  }\n",
              "\n",
              "  .colab-df-quickchart {\n",
              "    background-color: var(--bg-color);\n",
              "    border: none;\n",
              "    border-radius: 50%;\n",
              "    cursor: pointer;\n",
              "    display: none;\n",
              "    fill: var(--fill-color);\n",
              "    height: 32px;\n",
              "    padding: 0;\n",
              "    width: 32px;\n",
              "  }\n",
              "\n",
              "  .colab-df-quickchart:hover {\n",
              "    background-color: var(--hover-bg-color);\n",
              "    box-shadow: 0 1px 2px rgba(60, 64, 67, 0.3), 0 1px 3px 1px rgba(60, 64, 67, 0.15);\n",
              "    fill: var(--button-hover-fill-color);\n",
              "  }\n",
              "\n",
              "  .colab-df-quickchart-complete:disabled,\n",
              "  .colab-df-quickchart-complete:disabled:hover {\n",
              "    background-color: var(--disabled-bg-color);\n",
              "    fill: var(--disabled-fill-color);\n",
              "    box-shadow: none;\n",
              "  }\n",
              "\n",
              "  .colab-df-spinner {\n",
              "    border: 2px solid var(--fill-color);\n",
              "    border-color: transparent;\n",
              "    border-bottom-color: var(--fill-color);\n",
              "    animation:\n",
              "      spin 1s steps(1) infinite;\n",
              "  }\n",
              "\n",
              "  @keyframes spin {\n",
              "    0% {\n",
              "      border-color: transparent;\n",
              "      border-bottom-color: var(--fill-color);\n",
              "      border-left-color: var(--fill-color);\n",
              "    }\n",
              "    20% {\n",
              "      border-color: transparent;\n",
              "      border-left-color: var(--fill-color);\n",
              "      border-top-color: var(--fill-color);\n",
              "    }\n",
              "    30% {\n",
              "      border-color: transparent;\n",
              "      border-left-color: var(--fill-color);\n",
              "      border-top-color: var(--fill-color);\n",
              "      border-right-color: var(--fill-color);\n",
              "    }\n",
              "    40% {\n",
              "      border-color: transparent;\n",
              "      border-right-color: var(--fill-color);\n",
              "      border-top-color: var(--fill-color);\n",
              "    }\n",
              "    60% {\n",
              "      border-color: transparent;\n",
              "      border-right-color: var(--fill-color);\n",
              "    }\n",
              "    80% {\n",
              "      border-color: transparent;\n",
              "      border-right-color: var(--fill-color);\n",
              "      border-bottom-color: var(--fill-color);\n",
              "    }\n",
              "    90% {\n",
              "      border-color: transparent;\n",
              "      border-bottom-color: var(--fill-color);\n",
              "    }\n",
              "  }\n",
              "</style>\n",
              "\n",
              "  <script>\n",
              "    async function quickchart(key) {\n",
              "      const quickchartButtonEl =\n",
              "        document.querySelector('#' + key + ' button');\n",
              "      quickchartButtonEl.disabled = true;  // To prevent multiple clicks.\n",
              "      quickchartButtonEl.classList.add('colab-df-spinner');\n",
              "      try {\n",
              "        const charts = await google.colab.kernel.invokeFunction(\n",
              "            'suggestCharts', [key], {});\n",
              "      } catch (error) {\n",
              "        console.error('Error during call to suggestCharts:', error);\n",
              "      }\n",
              "      quickchartButtonEl.classList.remove('colab-df-spinner');\n",
              "      quickchartButtonEl.classList.add('colab-df-quickchart-complete');\n",
              "    }\n",
              "    (() => {\n",
              "      let quickchartButtonEl =\n",
              "        document.querySelector('#df-3c2032d6-20a2-499d-90af-164c1e44208a button');\n",
              "      quickchartButtonEl.style.display =\n",
              "        google.colab.kernel.accessAllowed ? 'block' : 'none';\n",
              "    })();\n",
              "  </script>\n",
              "</div>\n",
              "\n",
              "    </div>\n",
              "  </div>\n"
            ],
            "application/vnd.google.colaboratory.intrinsic+json": {
              "type": "dataframe",
              "variable_name": "movies"
            }
          },
          "metadata": {},
          "execution_count": 45
        }
      ]
    },
    {
      "cell_type": "code",
      "source": [
        "movies.info()"
      ],
      "metadata": {
        "id": "N0DcYT0Mh3yg",
        "colab": {
          "base_uri": "https://localhost:8080/"
        },
        "outputId": "a9aa1d17-2f72-48b6-cbae-44e5448199d8"
      },
      "execution_count": 46,
      "outputs": [
        {
          "output_type": "stream",
          "name": "stdout",
          "text": [
            "<class 'pandas.core.frame.DataFrame'>\n",
            "RangeIndex: 114321 entries, 0 to 114320\n",
            "Data columns (total 4 columns):\n",
            " #   Column   Non-Null Count   Dtype \n",
            "---  ------   --------------   ----- \n",
            " 0   id       114321 non-null  int64 \n",
            " 1   imdb_id  114321 non-null  object\n",
            " 2   title    114321 non-null  object\n",
            " 3   tags     114321 non-null  object\n",
            "dtypes: int64(1), object(3)\n",
            "memory usage: 3.5+ MB\n"
          ]
        }
      ]
    },
    {
      "cell_type": "code",
      "source": [
        "movies['tags'][0]"
      ],
      "metadata": {
        "id": "qyo48XVqK8Qb",
        "colab": {
          "base_uri": "https://localhost:8080/",
          "height": 109
        },
        "outputId": "55a01b59-3ab3-4dc8-eaa8-d6bc659c7e60"
      },
      "execution_count": 47,
      "outputs": [
        {
          "output_type": "execute_result",
          "data": {
            "text/plain": [
              "'dileeprao leonardodicaprio johnathangear magnusnolan clairegear adamcol andrewpleavin earlcameron nicolasclerc ryanhayward virgilebramli silvielaguna angelanathenson carlgilliard kraigthornb jasontendel tomhardi nicolepulliam marioncotillard jean-micheldagori jackgilroy cillianmurphi coraliededyker timkelleh shannonwel danielgirondeaud helenacullinan talulahriley petepostlethwait michaelcain tai-lile felixscott markfleischmann mirandanolan tombereng michaelgaston josephgordon-levitt lukashaa marcraducci jackmurray yujiokumoto elliotpag russfega natashabeaumont jillmaddrel shelleylang alexlombard peterbasham lisareynold taylorgear tohorumasamun kenwatanab'"
            ],
            "application/vnd.google.colaboratory.intrinsic+json": {
              "type": "string"
            }
          },
          "metadata": {},
          "execution_count": 47
        }
      ]
    },
    {
      "cell_type": "code",
      "source": [
        "vector = tfidf.fit_transform(movies['tags'])\n",
        "vector.shape"
      ],
      "metadata": {
        "id": "Wc_ZonmCK8N8",
        "colab": {
          "base_uri": "https://localhost:8080/"
        },
        "outputId": "50a9964c-676a-4033-a6ee-0686cd11c92d"
      },
      "execution_count": 48,
      "outputs": [
        {
          "output_type": "execute_result",
          "data": {
            "text/plain": [
              "(114321, 150000)"
            ]
          },
          "metadata": {},
          "execution_count": 48
        }
      ]
    },
    {
      "cell_type": "code",
      "source": [
        "similarity = cosine_similarity(vector)"
      ],
      "metadata": {
        "id": "n8ahGtIfK8JI"
      },
      "execution_count": 49,
      "outputs": []
    },
    {
      "cell_type": "code",
      "source": [
        "similarity"
      ],
      "metadata": {
        "id": "94hVCVOlK8G0",
        "colab": {
          "base_uri": "https://localhost:8080/"
        },
        "outputId": "34856528-d2a9-4208-9122-55d754cec316"
      },
      "execution_count": 50,
      "outputs": [
        {
          "output_type": "execute_result",
          "data": {
            "text/plain": [
              "array([[1.        , 0.05090562, 0.02240296, ..., 0.        , 0.        ,\n",
              "        0.        ],\n",
              "       [0.05090562, 1.        , 0.02920194, ..., 0.        , 0.        ,\n",
              "        0.        ],\n",
              "       [0.02240296, 0.02920194, 1.        , ..., 0.        , 0.        ,\n",
              "        0.        ],\n",
              "       ...,\n",
              "       [0.        , 0.        , 0.        , ..., 1.        , 0.        ,\n",
              "        0.        ],\n",
              "       [0.        , 0.        , 0.        , ..., 0.        , 1.        ,\n",
              "        0.        ],\n",
              "       [0.        , 0.        , 0.        , ..., 0.        , 0.        ,\n",
              "        0.        ]])"
            ]
          },
          "metadata": {},
          "execution_count": 50
        }
      ]
    },
    {
      "cell_type": "code",
      "source": [
        "similarity.shape"
      ],
      "metadata": {
        "id": "a10aXYE4K8EU",
        "colab": {
          "base_uri": "https://localhost:8080/"
        },
        "outputId": "799e7937-6b69-4e63-d84b-6fdcb398b696"
      },
      "execution_count": 51,
      "outputs": [
        {
          "output_type": "execute_result",
          "data": {
            "text/plain": [
              "(114321, 114321)"
            ]
          },
          "metadata": {},
          "execution_count": 51
        }
      ]
    },
    {
      "cell_type": "code",
      "source": [
        "top_n = 25\n",
        "updated_similarity = np.zeros((similarity.shape[0], top_n), dtype=int)\n",
        "updated_similarity.shape"
      ],
      "metadata": {
        "id": "iwgkteeA4jDC",
        "colab": {
          "base_uri": "https://localhost:8080/"
        },
        "outputId": "b2c76ba3-af8e-4cdc-cb71-46c8eaef8dd9"
      },
      "execution_count": 52,
      "outputs": [
        {
          "output_type": "execute_result",
          "data": {
            "text/plain": [
              "(114321, 25)"
            ]
          },
          "metadata": {},
          "execution_count": 52
        }
      ]
    },
    {
      "cell_type": "code",
      "source": [
        "for i in range(similarity.shape[0]):\n",
        "    sorted_indices = np.argsort(-similarity[i])[:top_n]\n",
        "    updated_similarity[i] = sorted_indices"
      ],
      "metadata": {
        "id": "aWgPwNL641JV"
      },
      "execution_count": 53,
      "outputs": []
    },
    {
      "cell_type": "code",
      "source": [
        "updated_similarity[1915]"
      ],
      "metadata": {
        "id": "KBQJhiV--9hA",
        "colab": {
          "base_uri": "https://localhost:8080/"
        },
        "outputId": "cf715727-95a4-4000-c23d-3ab95ba426e3"
      },
      "execution_count": 54,
      "outputs": [
        {
          "output_type": "execute_result",
          "data": {
            "text/plain": [
              "array([  1915,  70208, 112436,  20870,  15381,  31362,  73941,  39697,\n",
              "        36339,  26333,  32873,  84347,  87199,  70041,  54788, 100238,\n",
              "        37892,  81770,  84648,  88036,  23056,  60104,  14360,    543,\n",
              "        60786])"
            ]
          },
          "metadata": {},
          "execution_count": 54
        }
      ]
    },
    {
      "cell_type": "code",
      "source": [
        "updated_similarity.shape"
      ],
      "metadata": {
        "id": "uUadoKug71j4",
        "colab": {
          "base_uri": "https://localhost:8080/"
        },
        "outputId": "611f7d6b-0016-4881-8dc4-30a910a64631"
      },
      "execution_count": 55,
      "outputs": [
        {
          "output_type": "execute_result",
          "data": {
            "text/plain": [
              "(114321, 25)"
            ]
          },
          "metadata": {},
          "execution_count": 55
        }
      ]
    },
    {
      "cell_type": "code",
      "source": [
        "def movie_recommend(movie):\n",
        "    movie_index = movies[movies['title'] == movie].index[0]\n",
        "    recommended_indices = updated_similarity[movie_index][:10]\n",
        "\n",
        "    for i in recommended_indices:\n",
        "        print(movies.iloc[i].title)"
      ],
      "metadata": {
        "id": "KLpJL6yy40_F"
      },
      "execution_count": 56,
      "outputs": []
    },
    {
      "cell_type": "code",
      "source": [
        "movie_recommend('Around the World in 80 Days')"
      ],
      "metadata": {
        "id": "VxA13KU15f4Q",
        "colab": {
          "base_uri": "https://localhost:8080/"
        },
        "outputId": "56cafe97-7c59-4a05-b942-c9ff2a07ac31"
      },
      "execution_count": 57,
      "outputs": [
        {
          "output_type": "stream",
          "name": "stdout",
          "text": [
            "Around the World in 80 Days\n",
            "Thunderbolt\n",
            "Robin-B-Hood\n",
            "wkw/tk/1996@7'55''hk.net\n",
            "Dolphin Reef\n",
            "Animals in Love\n",
            "Dead or Alive: Final\n",
            "The Legend of Drunken Master\n",
            "Crime Story\n",
            "Gorgeous\n"
          ]
        }
      ]
    },
    {
      "cell_type": "code",
      "source": [
        "movie_recommend('Iron Man')"
      ],
      "metadata": {
        "id": "_zSGLWucsSH3",
        "colab": {
          "base_uri": "https://localhost:8080/"
        },
        "outputId": "3586b121-d924-499e-a9f0-90e7de6d3409"
      },
      "execution_count": 58,
      "outputs": [
        {
          "output_type": "stream",
          "name": "stdout",
          "text": [
            "Iron Man\n",
            "Supermoto\n",
            "Respect Yourself: The Stax Records Story\n",
            "Lillehammer ’94: 16 Days of Glory\n",
            "Democracy on Trial\n",
            "Terror in Europe\n",
            "Inside the Uvalde Response\n",
            "Atlanta’s Olympic Glory\n",
            "Sydney 2000: Stories of Olympic Glory\n",
            "The Choice 2016\n"
          ]
        }
      ]
    },
    {
      "cell_type": "code",
      "source": [
        "with open('/content/drive/MyDrive/cast_similarity.pkl', 'wb') as file:\n",
        "    pickle.dump(updated_similarity, file)"
      ],
      "metadata": {
        "id": "F8PMR_bT5f02"
      },
      "execution_count": 59,
      "outputs": []
    }
  ]
}