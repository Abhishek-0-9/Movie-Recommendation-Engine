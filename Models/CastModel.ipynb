{
  "nbformat": 4,
  "nbformat_minor": 0,
  "metadata": {
    "colab": {
      "provenance": [],
      "gpuType": "V28"
    },
    "kernelspec": {
      "name": "python3",
      "display_name": "Python 3"
    },
    "language_info": {
      "name": "python"
    },
    "accelerator": "TPU"
  },
  "cells": [
    {
      "cell_type": "code",
      "execution_count": 3,
      "metadata": {
        "id": "ZypGFByMIldc"
      },
      "outputs": [],
      "source": [
        "import pandas as pd\n",
        "import numpy as np\n",
        "import pickle\n",
        "from sklearn.feature_extraction.text import TfidfVectorizer\n",
        "from sklearn.decomposition import TruncatedSVD\n",
        "from sklearn.metrics.pairwise import cosine_similarity\n",
        "\n",
        "tfidf = TfidfVectorizer(stop_words='english', max_features=157262)\n",
        "svd = TruncatedSVD(n_components=200, random_state=42)"
      ]
    },
    {
      "cell_type": "markdown",
      "source": [
        "#Cast"
      ],
      "metadata": {
        "id": "L764Gvl4ARzU"
      }
    },
    {
      "cell_type": "code",
      "source": [
        "movies = pd.read_csv(\"/content/drive/MyDrive/Cast.csv\")"
      ],
      "metadata": {
        "id": "1s_aBV2AARzU"
      },
      "execution_count": 4,
      "outputs": []
    },
    {
      "cell_type": "code",
      "source": [
        "movies['tags'][0]"
      ],
      "metadata": {
        "colab": {
          "base_uri": "https://localhost:8080/",
          "height": 72
        },
        "outputId": "ce2fff35-a82d-4052-836a-be714e8eaf08",
        "id": "hJ0wEGQgARzU"
      },
      "execution_count": 5,
      "outputs": [
        {
          "output_type": "execute_result",
          "data": {
            "text/plain": [
              "'dileeprao leonardodicaprio johnathangear action sciencefict adventur rescu mission dream airplan pari franc virtualr kidnap philosophi spi allegori manipul carcrash heist memori architectur losangel california dreamworld subconsci'"
            ],
            "application/vnd.google.colaboratory.intrinsic+json": {
              "type": "string"
            }
          },
          "metadata": {},
          "execution_count": 5
        }
      ]
    },
    {
      "cell_type": "code",
      "source": [
        "vector = tfidf.fit_transform(movies['tags'])\n",
        "vector.shape"
      ],
      "metadata": {
        "colab": {
          "base_uri": "https://localhost:8080/"
        },
        "outputId": "e6dd397e-32d7-451b-e155-3f33c60e5393",
        "id": "QM1nNRNaARzV"
      },
      "execution_count": 6,
      "outputs": [
        {
          "output_type": "execute_result",
          "data": {
            "text/plain": [
              "(157262, 157262)"
            ]
          },
          "metadata": {},
          "execution_count": 6
        }
      ]
    },
    {
      "cell_type": "code",
      "source": [
        "vector = svd.fit_transform(vector)\n",
        "vector.shape"
      ],
      "metadata": {
        "colab": {
          "base_uri": "https://localhost:8080/"
        },
        "outputId": "81ac60a3-6bf3-4b6c-89f1-43d9cfc623db",
        "id": "_wtKg-IDARzV"
      },
      "execution_count": 7,
      "outputs": [
        {
          "output_type": "execute_result",
          "data": {
            "text/plain": [
              "(157262, 200)"
            ]
          },
          "metadata": {},
          "execution_count": 7
        }
      ]
    },
    {
      "cell_type": "code",
      "source": [
        "similarity = cosine_similarity(vector)"
      ],
      "metadata": {
        "id": "zvssLzT8ARzV"
      },
      "execution_count": 8,
      "outputs": []
    },
    {
      "cell_type": "code",
      "source": [
        "similarity"
      ],
      "metadata": {
        "id": "MQHZPaORARzV",
        "colab": {
          "base_uri": "https://localhost:8080/"
        },
        "outputId": "7609c91b-d602-4ba2-e7d4-78f8978dd164"
      },
      "execution_count": 9,
      "outputs": [
        {
          "output_type": "execute_result",
          "data": {
            "text/plain": [
              "array([[ 1.00000000e+00,  1.62979237e-01,  4.00198543e-02, ...,\n",
              "        -2.27057473e-03,  9.18487418e-04,  9.63913788e-03],\n",
              "       [ 1.62979237e-01,  1.00000000e+00, -3.29547259e-03, ...,\n",
              "         9.73836038e-03,  2.48462032e-02,  2.56762274e-03],\n",
              "       [ 4.00198543e-02, -3.29547259e-03,  1.00000000e+00, ...,\n",
              "        -1.50546383e-03,  1.89119424e-02,  2.04673189e-03],\n",
              "       ...,\n",
              "       [-2.27057473e-03,  9.73836038e-03, -1.50546383e-03, ...,\n",
              "         1.00000000e+00, -1.52243734e-03,  3.70644725e-01],\n",
              "       [ 9.18487418e-04,  2.48462032e-02,  1.89119424e-02, ...,\n",
              "        -1.52243734e-03,  1.00000000e+00,  4.44367448e-03],\n",
              "       [ 9.63913788e-03,  2.56762274e-03,  2.04673189e-03, ...,\n",
              "         3.70644725e-01,  4.44367448e-03,  1.00000000e+00]])"
            ]
          },
          "metadata": {},
          "execution_count": 9
        }
      ]
    },
    {
      "cell_type": "code",
      "source": [
        "similarity.shape"
      ],
      "metadata": {
        "id": "UKqBt3w5ARzW",
        "colab": {
          "base_uri": "https://localhost:8080/"
        },
        "outputId": "4cd82feb-238d-499e-b885-e364438142b6"
      },
      "execution_count": 10,
      "outputs": [
        {
          "output_type": "execute_result",
          "data": {
            "text/plain": [
              "(157262, 157262)"
            ]
          },
          "metadata": {},
          "execution_count": 10
        }
      ]
    },
    {
      "cell_type": "code",
      "source": [
        "top_n = 25\n",
        "updated_similarity2 = np.zeros((similarity.shape[0], top_n), dtype=int)"
      ],
      "metadata": {
        "id": "oSF54oNuARzW"
      },
      "execution_count": 11,
      "outputs": []
    },
    {
      "cell_type": "code",
      "source": [
        "for i in range(similarity.shape[0]):\n",
        "    sorted_indices = np.argsort(-similarity[i])[:top_n]\n",
        "    updated_similarity2[i] = sorted_indices"
      ],
      "metadata": {
        "id": "wdneSjoRARzW"
      },
      "execution_count": 12,
      "outputs": []
    },
    {
      "cell_type": "code",
      "source": [
        "updated_similarity2[101]"
      ],
      "metadata": {
        "id": "8CB8iQyVARzW",
        "colab": {
          "base_uri": "https://localhost:8080/"
        },
        "outputId": "a89cd056-e719-4e1b-83eb-39a3fa7901e1"
      },
      "execution_count": 13,
      "outputs": [
        {
          "output_type": "execute_result",
          "data": {
            "text/plain": [
              "array([   101,   1403,   2938,   5016,  76390,   7837,   1801,  14692,\n",
              "       151487,  68140, 136145, 123866,   2589,  46032,  73197,   2743,\n",
              "        59928, 148679, 118846,   2501,   1381,  19545,  30169,   5330,\n",
              "        84951])"
            ]
          },
          "metadata": {},
          "execution_count": 13
        }
      ]
    },
    {
      "cell_type": "code",
      "source": [
        "updated_similarity2.shape"
      ],
      "metadata": {
        "id": "pRPJwoQEARzW",
        "colab": {
          "base_uri": "https://localhost:8080/"
        },
        "outputId": "f0889ee1-acc1-43cf-c272-ec4a1853e225"
      },
      "execution_count": 14,
      "outputs": [
        {
          "output_type": "execute_result",
          "data": {
            "text/plain": [
              "(157262, 25)"
            ]
          },
          "metadata": {},
          "execution_count": 14
        }
      ]
    },
    {
      "cell_type": "code",
      "source": [
        "def movie_recommend(movie):\n",
        "    movie_index = movies[movies['title'] == movie].index[0]\n",
        "    recommended_indices = updated_similarity2[movie_index][:10]\n",
        "\n",
        "    for i in recommended_indices:\n",
        "        print(movies.iloc[i].title)"
      ],
      "metadata": {
        "id": "RCiUlyorARzW"
      },
      "execution_count": 15,
      "outputs": []
    },
    {
      "cell_type": "code",
      "source": [
        "movie_recommend('Around the World in 80 Days')"
      ],
      "metadata": {
        "id": "fTTVBHaPARzW",
        "colab": {
          "base_uri": "https://localhost:8080/"
        },
        "outputId": "1ec9669c-d567-4d1f-bd64-c6c04decb135"
      },
      "execution_count": 16,
      "outputs": [
        {
          "output_type": "stream",
          "name": "stdout",
          "text": [
            "Around the World in 80 Days\n",
            "A View to a Kill\n",
            "Bean\n",
            "Men in Black: International\n",
            "Ghost Dance\n",
            "Teheran '43\n",
            "RED 2\n",
            "Sherlock Holmes: A Game of Shadows\n",
            "The Scorpio Letters\n",
            "Inspector Clouseau\n"
          ]
        }
      ]
    },
    {
      "cell_type": "code",
      "source": [
        "with open('/content/drive/MyDrive/cast_similarity.pkl', 'wb') as file:\n",
        "    pickle.dump(updated_similarity2, file)"
      ],
      "metadata": {
        "id": "DJTquFtUARzX"
      },
      "execution_count": 17,
      "outputs": []
    }
  ]
}
