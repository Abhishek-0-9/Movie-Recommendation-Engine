{
  "nbformat": 4,
  "nbformat_minor": 0,
  "metadata": {
    "colab": {
      "provenance": [],
      "gpuType": "V28"
    },
    "kernelspec": {
      "name": "python3",
      "display_name": "Python 3"
    },
    "language_info": {
      "name": "python"
    },
    "accelerator": "TPU"
  },
  "cells": [
    {
      "cell_type": "code",
      "execution_count": 1,
      "metadata": {
        "id": "sgaemjRYIrPD"
      },
      "outputs": [],
      "source": [
        "import pandas as pd\n",
        "import numpy as np\n",
        "import pickle\n",
        "from sklearn.feature_extraction.text import TfidfVectorizer\n",
        "from sklearn.decomposition import TruncatedSVD\n",
        "from sklearn.metrics.pairwise import cosine_similarity\n",
        "\n",
        "tfidf = TfidfVectorizer(stop_words='english')\n",
        "svd = TruncatedSVD(n_components=200, random_state=42)"
      ]
    },
    {
      "cell_type": "markdown",
      "source": [
        "#Director"
      ],
      "metadata": {
        "id": "fQhcR5PNAYDj"
      }
    },
    {
      "cell_type": "code",
      "source": [
        "movies = pd.read_csv(\"/content/drive/MyDrive/Director.csv\")"
      ],
      "metadata": {
        "id": "rIdkXSSDAYDk"
      },
      "execution_count": 2,
      "outputs": []
    },
    {
      "cell_type": "code",
      "source": [
        "movies['tags'][0]"
      ],
      "metadata": {
        "colab": {
          "base_uri": "https://localhost:8080/",
          "height": 53
        },
        "outputId": "6188a411-e440-482e-fffb-62c7bd1d2027",
        "id": "-TkM3sLJAYDk"
      },
      "execution_count": 3,
      "outputs": [
        {
          "output_type": "execute_result",
          "data": {
            "text/plain": [
              "'christophernolan action sciencefict adventur rescu mission dream airplan pari franc virtualr kidnap philosophi spi allegori manipul carcrash heist memori architectur losangel california dreamworld subconsci dileeprao leonardodicaprio johnathangear'"
            ],
            "application/vnd.google.colaboratory.intrinsic+json": {
              "type": "string"
            }
          },
          "metadata": {},
          "execution_count": 3
        }
      ]
    },
    {
      "cell_type": "code",
      "source": [
        "vector = tfidf.fit_transform(movies['tags'])\n",
        "vector.shape"
      ],
      "metadata": {
        "colab": {
          "base_uri": "https://localhost:8080/"
        },
        "outputId": "4929df1d-3dcd-4072-c6e5-1e20903c07cc",
        "id": "dxeLXk8xAYDk"
      },
      "execution_count": 4,
      "outputs": [
        {
          "output_type": "execute_result",
          "data": {
            "text/plain": [
              "(157262, 356147)"
            ]
          },
          "metadata": {},
          "execution_count": 4
        }
      ]
    },
    {
      "cell_type": "code",
      "source": [
        "vector = svd.fit_transform(vector)\n",
        "vector.shape"
      ],
      "metadata": {
        "colab": {
          "base_uri": "https://localhost:8080/"
        },
        "outputId": "82696cdb-56d1-441f-f948-2a396cac9643",
        "id": "UhpfJgGkAYDk"
      },
      "execution_count": 5,
      "outputs": [
        {
          "output_type": "execute_result",
          "data": {
            "text/plain": [
              "(157262, 200)"
            ]
          },
          "metadata": {},
          "execution_count": 5
        }
      ]
    },
    {
      "cell_type": "code",
      "source": [
        "similarity = cosine_similarity(vector)"
      ],
      "metadata": {
        "id": "O2i0wNyaAYDk"
      },
      "execution_count": 6,
      "outputs": []
    },
    {
      "cell_type": "code",
      "source": [
        "similarity"
      ],
      "metadata": {
        "colab": {
          "base_uri": "https://localhost:8080/"
        },
        "outputId": "102370a6-b79a-4cc3-9b39-811324c2ee6e",
        "id": "Sun6a1jbAYDk"
      },
      "execution_count": 7,
      "outputs": [
        {
          "output_type": "execute_result",
          "data": {
            "text/plain": [
              "array([[ 1.00000000e+00,  1.43756852e-01,  5.57601120e-02, ...,\n",
              "         4.04474582e-04, -4.20446280e-03,  1.01029801e-02],\n",
              "       [ 1.43756852e-01,  1.00000000e+00, -2.64418742e-03, ...,\n",
              "         3.28601523e-02,  1.24841563e-02,  8.39485985e-03],\n",
              "       [ 5.57601120e-02, -2.64418742e-03,  1.00000000e+00, ...,\n",
              "        -2.17765855e-04,  1.59762140e-02,  1.15829690e-03],\n",
              "       ...,\n",
              "       [ 4.04474582e-04,  3.28601523e-02, -2.17765855e-04, ...,\n",
              "         1.00000000e+00, -1.28533285e-03,  3.83008920e-01],\n",
              "       [-4.20446280e-03,  1.24841563e-02,  1.59762140e-02, ...,\n",
              "        -1.28533285e-03,  1.00000000e+00,  4.29759913e-03],\n",
              "       [ 1.01029801e-02,  8.39485985e-03,  1.15829690e-03, ...,\n",
              "         3.83008920e-01,  4.29759913e-03,  1.00000000e+00]])"
            ]
          },
          "metadata": {},
          "execution_count": 7
        }
      ]
    },
    {
      "cell_type": "code",
      "source": [
        "similarity.shape"
      ],
      "metadata": {
        "colab": {
          "base_uri": "https://localhost:8080/"
        },
        "outputId": "809d0018-6532-41aa-b37c-061a48d039db",
        "id": "GjKKCTueAYDk"
      },
      "execution_count": 8,
      "outputs": [
        {
          "output_type": "execute_result",
          "data": {
            "text/plain": [
              "(157262, 157262)"
            ]
          },
          "metadata": {},
          "execution_count": 8
        }
      ]
    },
    {
      "cell_type": "code",
      "source": [
        "top_n = 25\n",
        "updated_similarity = np.zeros((similarity.shape[0], top_n), dtype=int)\n",
        "updated_similarity.shape"
      ],
      "metadata": {
        "id": "gvD5T3yQAYDl",
        "colab": {
          "base_uri": "https://localhost:8080/"
        },
        "outputId": "99e5e100-2f7b-4673-91b8-f7c846f80537"
      },
      "execution_count": 9,
      "outputs": [
        {
          "output_type": "execute_result",
          "data": {
            "text/plain": [
              "(157262, 25)"
            ]
          },
          "metadata": {},
          "execution_count": 9
        }
      ]
    },
    {
      "cell_type": "code",
      "source": [
        "for i in range(similarity.shape[0]):\n",
        "    sorted_indices = np.argsort(-similarity[i])[:top_n]\n",
        "    updated_similarity[i] = sorted_indices"
      ],
      "metadata": {
        "id": "l1PGdOIXAYDl"
      },
      "execution_count": 10,
      "outputs": []
    },
    {
      "cell_type": "code",
      "source": [
        "updated_similarity[101]"
      ],
      "metadata": {
        "id": "EvfDkGaZAYDl",
        "colab": {
          "base_uri": "https://localhost:8080/"
        },
        "outputId": "04b8f09c-c3f0-4b7c-d1b8-4e0948117397"
      },
      "execution_count": 11,
      "outputs": [
        {
          "output_type": "execute_result",
          "data": {
            "text/plain": [
              "array([   101,   1403,   2938,   5016,   7837,   1801,  76390,  14692,\n",
              "         2589, 151487,  68140, 136145, 123866,  46032,  73197,  59928,\n",
              "         2743, 148679, 118846,   1381,  30169,   4198,   2501,    243,\n",
              "        19545])"
            ]
          },
          "metadata": {},
          "execution_count": 11
        }
      ]
    },
    {
      "cell_type": "code",
      "source": [
        "updated_similarity.shape"
      ],
      "metadata": {
        "colab": {
          "base_uri": "https://localhost:8080/"
        },
        "outputId": "13cad5a6-ea00-4b6e-d9bb-e495be968e29",
        "id": "Kiu6f_h4AYDl"
      },
      "execution_count": 12,
      "outputs": [
        {
          "output_type": "execute_result",
          "data": {
            "text/plain": [
              "(157262, 25)"
            ]
          },
          "metadata": {},
          "execution_count": 12
        }
      ]
    },
    {
      "cell_type": "code",
      "source": [
        "def movie_recommend(movie):\n",
        "    movie_index = movies[movies['title'] == movie].index[0]\n",
        "    recommended_indices = updated_similarity[movie_index][:10]\n",
        "\n",
        "    for i in recommended_indices:\n",
        "        print(movies.iloc[i].title)"
      ],
      "metadata": {
        "id": "sR3jTL_FAYDl"
      },
      "execution_count": 13,
      "outputs": []
    },
    {
      "cell_type": "code",
      "source": [
        "movie_recommend('Around the World in 80 Days')"
      ],
      "metadata": {
        "colab": {
          "base_uri": "https://localhost:8080/"
        },
        "outputId": "181047f1-2935-4823-a26f-c4b931aab727",
        "id": "Z61nrFp0AYDl"
      },
      "execution_count": 14,
      "outputs": [
        {
          "output_type": "stream",
          "name": "stdout",
          "text": [
            "Around the World in 80 Days\n",
            "A View to a Kill\n",
            "Bean\n",
            "Men in Black: International\n",
            "Ghost Dance\n",
            "RED 2\n",
            "Teheran '43\n",
            "Sherlock Holmes: A Game of Shadows\n",
            "The Scorpio Letters\n",
            "Inspector Clouseau\n"
          ]
        }
      ]
    },
    {
      "cell_type": "code",
      "source": [
        "with open('/content/drive/MyDrive/director_similarity.pkl', 'wb') as file:\n",
        "    pickle.dump(updated_similarity, file)"
      ],
      "metadata": {
        "id": "qKRSQeEnAYDl"
      },
      "execution_count": 15,
      "outputs": []
    }
  ]
}