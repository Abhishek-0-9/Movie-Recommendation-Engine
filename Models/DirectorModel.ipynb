{
  "nbformat": 4,
  "nbformat_minor": 0,
  "metadata": {
    "colab": {
      "provenance": [],
      "gpuType": "V28"
    },
    "kernelspec": {
      "name": "python3",
      "display_name": "Python 3"
    },
    "language_info": {
      "name": "python"
    },
    "accelerator": "TPU"
  },
  "cells": [
    {
      "cell_type": "code",
      "source": [
        "from google.colab import drive\n",
        "drive.mount('/content/drive')"
      ],
      "metadata": {
        "colab": {
          "base_uri": "https://localhost:8080/"
        },
        "id": "ta7Jl7I9nvJY",
        "outputId": "5cd2fdce-3ecf-4f81-9c8d-e7f0f7ea9a07"
      },
      "execution_count": 1,
      "outputs": [
        {
          "output_type": "stream",
          "name": "stdout",
          "text": [
            "Drive already mounted at /content/drive; to attempt to forcibly remount, call drive.mount(\"/content/drive\", force_remount=True).\n"
          ]
        }
      ]
    },
    {
      "cell_type": "code",
      "execution_count": 2,
      "metadata": {
        "id": "qSl43Tv7KzcU"
      },
      "outputs": [],
      "source": [
        "import pandas as pd\n",
        "import numpy as np\n",
        "import pickle\n",
        "from sklearn.feature_extraction.text import TfidfVectorizer\n",
        "from sklearn.metrics.pairwise import cosine_similarity\n",
        "\n",
        "tfidf = TfidfVectorizer(stop_words='english', max_features=150000)"
      ]
    },
    {
      "cell_type": "markdown",
      "source": [
        "# Cast"
      ],
      "metadata": {
        "id": "n6XC7wc6_4tR"
      }
    },
    {
      "cell_type": "code",
      "source": [
        "movies = pd.read_csv(\"/content/drive/MyDrive/Director.csv\")"
      ],
      "metadata": {
        "id": "8i-eXXTrK8Tr"
      },
      "execution_count": 3,
      "outputs": []
    },
    {
      "cell_type": "code",
      "source": [
        "movies.head()"
      ],
      "metadata": {
        "id": "7Im14cERhzrd",
        "colab": {
          "base_uri": "https://localhost:8080/",
          "height": 206
        },
        "outputId": "bba4e73c-af32-4312-94c5-8067565f3a5d"
      },
      "execution_count": 4,
      "outputs": [
        {
          "output_type": "execute_result",
          "data": {
            "text/plain": [
              "       id    imdb_id            title  \\\n",
              "0   27205  tt1375666        Inception   \n",
              "1  157336  tt0816692     Interstellar   \n",
              "2     155  tt0468569  The Dark Knight   \n",
              "3   19995  tt0499549           Avatar   \n",
              "4   24428  tt0848228     The Avengers   \n",
              "\n",
              "                                                tags  \n",
              "0  christophernolan action sciencefict adventur r...  \n",
              "1  christophernolan adventur drama sciencefict re...  \n",
              "2  christophernolan drama action crime thriller j...  \n",
              "3  jamescameron action adventur fantasi sciencefi...  \n",
              "4  josswhedon sciencefict action adventur newyork...  "
            ],
            "text/html": [
              "\n",
              "  <div id=\"df-ecf97a6b-4e9f-4092-baf9-d6b27257d19a\" class=\"colab-df-container\">\n",
              "    <div>\n",
              "<style scoped>\n",
              "    .dataframe tbody tr th:only-of-type {\n",
              "        vertical-align: middle;\n",
              "    }\n",
              "\n",
              "    .dataframe tbody tr th {\n",
              "        vertical-align: top;\n",
              "    }\n",
              "\n",
              "    .dataframe thead th {\n",
              "        text-align: right;\n",
              "    }\n",
              "</style>\n",
              "<table border=\"1\" class=\"dataframe\">\n",
              "  <thead>\n",
              "    <tr style=\"text-align: right;\">\n",
              "      <th></th>\n",
              "      <th>id</th>\n",
              "      <th>imdb_id</th>\n",
              "      <th>title</th>\n",
              "      <th>tags</th>\n",
              "    </tr>\n",
              "  </thead>\n",
              "  <tbody>\n",
              "    <tr>\n",
              "      <th>0</th>\n",
              "      <td>27205</td>\n",
              "      <td>tt1375666</td>\n",
              "      <td>Inception</td>\n",
              "      <td>christophernolan action sciencefict adventur r...</td>\n",
              "    </tr>\n",
              "    <tr>\n",
              "      <th>1</th>\n",
              "      <td>157336</td>\n",
              "      <td>tt0816692</td>\n",
              "      <td>Interstellar</td>\n",
              "      <td>christophernolan adventur drama sciencefict re...</td>\n",
              "    </tr>\n",
              "    <tr>\n",
              "      <th>2</th>\n",
              "      <td>155</td>\n",
              "      <td>tt0468569</td>\n",
              "      <td>The Dark Knight</td>\n",
              "      <td>christophernolan drama action crime thriller j...</td>\n",
              "    </tr>\n",
              "    <tr>\n",
              "      <th>3</th>\n",
              "      <td>19995</td>\n",
              "      <td>tt0499549</td>\n",
              "      <td>Avatar</td>\n",
              "      <td>jamescameron action adventur fantasi sciencefi...</td>\n",
              "    </tr>\n",
              "    <tr>\n",
              "      <th>4</th>\n",
              "      <td>24428</td>\n",
              "      <td>tt0848228</td>\n",
              "      <td>The Avengers</td>\n",
              "      <td>josswhedon sciencefict action adventur newyork...</td>\n",
              "    </tr>\n",
              "  </tbody>\n",
              "</table>\n",
              "</div>\n",
              "    <div class=\"colab-df-buttons\">\n",
              "\n",
              "  <div class=\"colab-df-container\">\n",
              "    <button class=\"colab-df-convert\" onclick=\"convertToInteractive('df-ecf97a6b-4e9f-4092-baf9-d6b27257d19a')\"\n",
              "            title=\"Convert this dataframe to an interactive table.\"\n",
              "            style=\"display:none;\">\n",
              "\n",
              "  <svg xmlns=\"http://www.w3.org/2000/svg\" height=\"24px\" viewBox=\"0 -960 960 960\">\n",
              "    <path d=\"M120-120v-720h720v720H120Zm60-500h600v-160H180v160Zm220 220h160v-160H400v160Zm0 220h160v-160H400v160ZM180-400h160v-160H180v160Zm440 0h160v-160H620v160ZM180-180h160v-160H180v160Zm440 0h160v-160H620v160Z\"/>\n",
              "  </svg>\n",
              "    </button>\n",
              "\n",
              "  <style>\n",
              "    .colab-df-container {\n",
              "      display:flex;\n",
              "      gap: 12px;\n",
              "    }\n",
              "\n",
              "    .colab-df-convert {\n",
              "      background-color: #E8F0FE;\n",
              "      border: none;\n",
              "      border-radius: 50%;\n",
              "      cursor: pointer;\n",
              "      display: none;\n",
              "      fill: #1967D2;\n",
              "      height: 32px;\n",
              "      padding: 0 0 0 0;\n",
              "      width: 32px;\n",
              "    }\n",
              "\n",
              "    .colab-df-convert:hover {\n",
              "      background-color: #E2EBFA;\n",
              "      box-shadow: 0px 1px 2px rgba(60, 64, 67, 0.3), 0px 1px 3px 1px rgba(60, 64, 67, 0.15);\n",
              "      fill: #174EA6;\n",
              "    }\n",
              "\n",
              "    .colab-df-buttons div {\n",
              "      margin-bottom: 4px;\n",
              "    }\n",
              "\n",
              "    [theme=dark] .colab-df-convert {\n",
              "      background-color: #3B4455;\n",
              "      fill: #D2E3FC;\n",
              "    }\n",
              "\n",
              "    [theme=dark] .colab-df-convert:hover {\n",
              "      background-color: #434B5C;\n",
              "      box-shadow: 0px 1px 3px 1px rgba(0, 0, 0, 0.15);\n",
              "      filter: drop-shadow(0px 1px 2px rgba(0, 0, 0, 0.3));\n",
              "      fill: #FFFFFF;\n",
              "    }\n",
              "  </style>\n",
              "\n",
              "    <script>\n",
              "      const buttonEl =\n",
              "        document.querySelector('#df-ecf97a6b-4e9f-4092-baf9-d6b27257d19a button.colab-df-convert');\n",
              "      buttonEl.style.display =\n",
              "        google.colab.kernel.accessAllowed ? 'block' : 'none';\n",
              "\n",
              "      async function convertToInteractive(key) {\n",
              "        const element = document.querySelector('#df-ecf97a6b-4e9f-4092-baf9-d6b27257d19a');\n",
              "        const dataTable =\n",
              "          await google.colab.kernel.invokeFunction('convertToInteractive',\n",
              "                                                    [key], {});\n",
              "        if (!dataTable) return;\n",
              "\n",
              "        const docLinkHtml = 'Like what you see? Visit the ' +\n",
              "          '<a target=\"_blank\" href=https://colab.research.google.com/notebooks/data_table.ipynb>data table notebook</a>'\n",
              "          + ' to learn more about interactive tables.';\n",
              "        element.innerHTML = '';\n",
              "        dataTable['output_type'] = 'display_data';\n",
              "        await google.colab.output.renderOutput(dataTable, element);\n",
              "        const docLink = document.createElement('div');\n",
              "        docLink.innerHTML = docLinkHtml;\n",
              "        element.appendChild(docLink);\n",
              "      }\n",
              "    </script>\n",
              "  </div>\n",
              "\n",
              "\n",
              "<div id=\"df-74dc8fce-5a68-453a-baff-d4fe2fbbd22b\">\n",
              "  <button class=\"colab-df-quickchart\" onclick=\"quickchart('df-74dc8fce-5a68-453a-baff-d4fe2fbbd22b')\"\n",
              "            title=\"Suggest charts\"\n",
              "            style=\"display:none;\">\n",
              "\n",
              "<svg xmlns=\"http://www.w3.org/2000/svg\" height=\"24px\"viewBox=\"0 0 24 24\"\n",
              "     width=\"24px\">\n",
              "    <g>\n",
              "        <path d=\"M19 3H5c-1.1 0-2 .9-2 2v14c0 1.1.9 2 2 2h14c1.1 0 2-.9 2-2V5c0-1.1-.9-2-2-2zM9 17H7v-7h2v7zm4 0h-2V7h2v10zm4 0h-2v-4h2v4z\"/>\n",
              "    </g>\n",
              "</svg>\n",
              "  </button>\n",
              "\n",
              "<style>\n",
              "  .colab-df-quickchart {\n",
              "      --bg-color: #E8F0FE;\n",
              "      --fill-color: #1967D2;\n",
              "      --hover-bg-color: #E2EBFA;\n",
              "      --hover-fill-color: #174EA6;\n",
              "      --disabled-fill-color: #AAA;\n",
              "      --disabled-bg-color: #DDD;\n",
              "  }\n",
              "\n",
              "  [theme=dark] .colab-df-quickchart {\n",
              "      --bg-color: #3B4455;\n",
              "      --fill-color: #D2E3FC;\n",
              "      --hover-bg-color: #434B5C;\n",
              "      --hover-fill-color: #FFFFFF;\n",
              "      --disabled-bg-color: #3B4455;\n",
              "      --disabled-fill-color: #666;\n",
              "  }\n",
              "\n",
              "  .colab-df-quickchart {\n",
              "    background-color: var(--bg-color);\n",
              "    border: none;\n",
              "    border-radius: 50%;\n",
              "    cursor: pointer;\n",
              "    display: none;\n",
              "    fill: var(--fill-color);\n",
              "    height: 32px;\n",
              "    padding: 0;\n",
              "    width: 32px;\n",
              "  }\n",
              "\n",
              "  .colab-df-quickchart:hover {\n",
              "    background-color: var(--hover-bg-color);\n",
              "    box-shadow: 0 1px 2px rgba(60, 64, 67, 0.3), 0 1px 3px 1px rgba(60, 64, 67, 0.15);\n",
              "    fill: var(--button-hover-fill-color);\n",
              "  }\n",
              "\n",
              "  .colab-df-quickchart-complete:disabled,\n",
              "  .colab-df-quickchart-complete:disabled:hover {\n",
              "    background-color: var(--disabled-bg-color);\n",
              "    fill: var(--disabled-fill-color);\n",
              "    box-shadow: none;\n",
              "  }\n",
              "\n",
              "  .colab-df-spinner {\n",
              "    border: 2px solid var(--fill-color);\n",
              "    border-color: transparent;\n",
              "    border-bottom-color: var(--fill-color);\n",
              "    animation:\n",
              "      spin 1s steps(1) infinite;\n",
              "  }\n",
              "\n",
              "  @keyframes spin {\n",
              "    0% {\n",
              "      border-color: transparent;\n",
              "      border-bottom-color: var(--fill-color);\n",
              "      border-left-color: var(--fill-color);\n",
              "    }\n",
              "    20% {\n",
              "      border-color: transparent;\n",
              "      border-left-color: var(--fill-color);\n",
              "      border-top-color: var(--fill-color);\n",
              "    }\n",
              "    30% {\n",
              "      border-color: transparent;\n",
              "      border-left-color: var(--fill-color);\n",
              "      border-top-color: var(--fill-color);\n",
              "      border-right-color: var(--fill-color);\n",
              "    }\n",
              "    40% {\n",
              "      border-color: transparent;\n",
              "      border-right-color: var(--fill-color);\n",
              "      border-top-color: var(--fill-color);\n",
              "    }\n",
              "    60% {\n",
              "      border-color: transparent;\n",
              "      border-right-color: var(--fill-color);\n",
              "    }\n",
              "    80% {\n",
              "      border-color: transparent;\n",
              "      border-right-color: var(--fill-color);\n",
              "      border-bottom-color: var(--fill-color);\n",
              "    }\n",
              "    90% {\n",
              "      border-color: transparent;\n",
              "      border-bottom-color: var(--fill-color);\n",
              "    }\n",
              "  }\n",
              "</style>\n",
              "\n",
              "  <script>\n",
              "    async function quickchart(key) {\n",
              "      const quickchartButtonEl =\n",
              "        document.querySelector('#' + key + ' button');\n",
              "      quickchartButtonEl.disabled = true;  // To prevent multiple clicks.\n",
              "      quickchartButtonEl.classList.add('colab-df-spinner');\n",
              "      try {\n",
              "        const charts = await google.colab.kernel.invokeFunction(\n",
              "            'suggestCharts', [key], {});\n",
              "      } catch (error) {\n",
              "        console.error('Error during call to suggestCharts:', error);\n",
              "      }\n",
              "      quickchartButtonEl.classList.remove('colab-df-spinner');\n",
              "      quickchartButtonEl.classList.add('colab-df-quickchart-complete');\n",
              "    }\n",
              "    (() => {\n",
              "      let quickchartButtonEl =\n",
              "        document.querySelector('#df-74dc8fce-5a68-453a-baff-d4fe2fbbd22b button');\n",
              "      quickchartButtonEl.style.display =\n",
              "        google.colab.kernel.accessAllowed ? 'block' : 'none';\n",
              "    })();\n",
              "  </script>\n",
              "</div>\n",
              "\n",
              "    </div>\n",
              "  </div>\n"
            ],
            "application/vnd.google.colaboratory.intrinsic+json": {
              "type": "dataframe",
              "variable_name": "movies"
            }
          },
          "metadata": {},
          "execution_count": 4
        }
      ]
    },
    {
      "cell_type": "code",
      "source": [
        "movies.info()"
      ],
      "metadata": {
        "id": "N0DcYT0Mh3yg",
        "colab": {
          "base_uri": "https://localhost:8080/"
        },
        "outputId": "c7ce01e7-04b2-4dd1-8bfd-1e873835a533"
      },
      "execution_count": 5,
      "outputs": [
        {
          "output_type": "stream",
          "name": "stdout",
          "text": [
            "<class 'pandas.core.frame.DataFrame'>\n",
            "RangeIndex: 114321 entries, 0 to 114320\n",
            "Data columns (total 4 columns):\n",
            " #   Column   Non-Null Count   Dtype \n",
            "---  ------   --------------   ----- \n",
            " 0   id       114321 non-null  int64 \n",
            " 1   imdb_id  114321 non-null  object\n",
            " 2   title    114321 non-null  object\n",
            " 3   tags     114321 non-null  object\n",
            "dtypes: int64(1), object(3)\n",
            "memory usage: 3.5+ MB\n"
          ]
        }
      ]
    },
    {
      "cell_type": "code",
      "source": [
        "movies['tags'][0]"
      ],
      "metadata": {
        "id": "qyo48XVqK8Qb",
        "colab": {
          "base_uri": "https://localhost:8080/",
          "height": 54
        },
        "outputId": "1bb1f37e-cb06-494b-d2e2-16df6c2be8be"
      },
      "execution_count": 6,
      "outputs": [
        {
          "output_type": "execute_result",
          "data": {
            "text/plain": [
              "'christophernolan action sciencefict adventur rescu mission dream airplan pari franc virtualr kidnap philosophi spi allegori manipul carcrash heist memori architectur losangel california dreamworld subconsci unitedkingdom unitedstatesofamerica legendarypictur syncopi warnerbros.pictur'"
            ],
            "application/vnd.google.colaboratory.intrinsic+json": {
              "type": "string"
            }
          },
          "metadata": {},
          "execution_count": 6
        }
      ]
    },
    {
      "cell_type": "code",
      "source": [
        "vector = tfidf.fit_transform(movies['tags'])\n",
        "vector.shape"
      ],
      "metadata": {
        "id": "Wc_ZonmCK8N8",
        "colab": {
          "base_uri": "https://localhost:8080/"
        },
        "outputId": "c34f27ae-5652-4a06-bd23-0174c74c4161"
      },
      "execution_count": 7,
      "outputs": [
        {
          "output_type": "execute_result",
          "data": {
            "text/plain": [
              "(114321, 150000)"
            ]
          },
          "metadata": {},
          "execution_count": 7
        }
      ]
    },
    {
      "cell_type": "code",
      "source": [
        "similarity = cosine_similarity(vector)"
      ],
      "metadata": {
        "id": "n8ahGtIfK8JI"
      },
      "execution_count": 8,
      "outputs": []
    },
    {
      "cell_type": "code",
      "source": [
        "similarity"
      ],
      "metadata": {
        "id": "94hVCVOlK8G0",
        "colab": {
          "base_uri": "https://localhost:8080/"
        },
        "outputId": "bb95ca58-e058-4b95-8e97-5d8b94e26972"
      },
      "execution_count": 9,
      "outputs": [
        {
          "output_type": "execute_result",
          "data": {
            "text/plain": [
              "array([[1.        , 0.20989835, 0.18787579, ..., 0.        , 0.01179515,\n",
              "        0.00243231],\n",
              "       [0.20989835, 1.        , 0.1306619 , ..., 0.        , 0.01082168,\n",
              "        0.00172985],\n",
              "       [0.18787579, 0.1306619 , 1.        , ..., 0.        , 0.01405497,\n",
              "        0.00224669],\n",
              "       ...,\n",
              "       [0.        , 0.        , 0.        , ..., 1.        , 0.        ,\n",
              "        0.        ],\n",
              "       [0.01179515, 0.01082168, 0.01405497, ..., 0.        , 1.        ,\n",
              "        0.        ],\n",
              "       [0.00243231, 0.00172985, 0.00224669, ..., 0.        , 0.        ,\n",
              "        1.        ]])"
            ]
          },
          "metadata": {},
          "execution_count": 9
        }
      ]
    },
    {
      "cell_type": "code",
      "source": [
        "similarity.shape"
      ],
      "metadata": {
        "id": "a10aXYE4K8EU",
        "colab": {
          "base_uri": "https://localhost:8080/"
        },
        "outputId": "b10a30af-0283-4de6-96f9-cd9bc2c813e2"
      },
      "execution_count": 10,
      "outputs": [
        {
          "output_type": "execute_result",
          "data": {
            "text/plain": [
              "(114321, 114321)"
            ]
          },
          "metadata": {},
          "execution_count": 10
        }
      ]
    },
    {
      "cell_type": "code",
      "source": [
        "top_n = 25\n",
        "updated_similarity = np.zeros((similarity.shape[0], top_n), dtype=int)\n",
        "updated_similarity.shape"
      ],
      "metadata": {
        "id": "iwgkteeA4jDC",
        "colab": {
          "base_uri": "https://localhost:8080/"
        },
        "outputId": "9746a159-8896-4b89-a09b-1d3bc9251de1"
      },
      "execution_count": 11,
      "outputs": [
        {
          "output_type": "execute_result",
          "data": {
            "text/plain": [
              "(114321, 25)"
            ]
          },
          "metadata": {},
          "execution_count": 11
        }
      ]
    },
    {
      "cell_type": "code",
      "source": [
        "for i in range(similarity.shape[0]):\n",
        "    sorted_indices = np.argsort(-similarity[i])[:top_n]\n",
        "    updated_similarity[i] = sorted_indices"
      ],
      "metadata": {
        "id": "aWgPwNL641JV"
      },
      "execution_count": 12,
      "outputs": []
    },
    {
      "cell_type": "code",
      "source": [
        "updated_similarity[1915]"
      ],
      "metadata": {
        "id": "KBQJhiV--9hA",
        "colab": {
          "base_uri": "https://localhost:8080/"
        },
        "outputId": "2e6bc72a-2d01-4d83-f303-eabdf3eb8d45"
      },
      "execution_count": 13,
      "outputs": [
        {
          "output_type": "execute_result",
          "data": {
            "text/plain": [
              "array([  1915,  14196, 107168,  23245,  25948,  52894,  96833,  33896,\n",
              "        86796,  31364,  26360,  55858,   4752,  38531,  82485,   4269,\n",
              "        25909,  44993,  14177,  94650,  38908,  28779,   2144,  55807,\n",
              "        58267])"
            ]
          },
          "metadata": {},
          "execution_count": 13
        }
      ]
    },
    {
      "cell_type": "code",
      "source": [
        "updated_similarity.shape"
      ],
      "metadata": {
        "id": "uUadoKug71j4",
        "colab": {
          "base_uri": "https://localhost:8080/"
        },
        "outputId": "8711f699-c78c-43bf-a66c-1fe03e02e7c3"
      },
      "execution_count": 14,
      "outputs": [
        {
          "output_type": "execute_result",
          "data": {
            "text/plain": [
              "(114321, 25)"
            ]
          },
          "metadata": {},
          "execution_count": 14
        }
      ]
    },
    {
      "cell_type": "code",
      "source": [
        "def movie_recommend(movie):\n",
        "    movie_index = movies[movies['title'] == movie].index[0]\n",
        "    recommended_indices = updated_similarity[movie_index][:10]\n",
        "\n",
        "    for i in recommended_indices:\n",
        "        print(movies.iloc[i].title)"
      ],
      "metadata": {
        "id": "KLpJL6yy40_F"
      },
      "execution_count": 15,
      "outputs": []
    },
    {
      "cell_type": "code",
      "source": [
        "movie_recommend('Around the World in 80 Days')"
      ],
      "metadata": {
        "id": "VxA13KU15f4Q",
        "colab": {
          "base_uri": "https://localhost:8080/"
        },
        "outputId": "645824cd-e13d-4cb9-d852-9b01fe985876"
      },
      "execution_count": 16,
      "outputs": [
        {
          "output_type": "stream",
          "name": "stdout",
          "text": [
            "Around the World in 80 Days\n",
            "Five Weeks in a Balloon\n",
            "Law of the Barbary Coast\n",
            "Sherlock Holmes: A Game of Shadows\n",
            "The Ridiculous 6\n",
            "Murdered Innocence\n",
            "A View to a Kill\n",
            "Ghost Dance\n",
            "Terminator 3: Rise of the Machines\n",
            "A Perilous Journey\n"
          ]
        }
      ]
    },
    {
      "cell_type": "code",
      "source": [
        "movie_recommend('Iron Man')"
      ],
      "metadata": {
        "id": "_zSGLWucsSH3",
        "colab": {
          "base_uri": "https://localhost:8080/"
        },
        "outputId": "3ff4e1c6-b737-4cf3-c471-2cda00710bc1"
      },
      "execution_count": 17,
      "outputs": [
        {
          "output_type": "stream",
          "name": "stdout",
          "text": [
            "Iron Man\n",
            "Iron Man 2\n",
            "Black Panther\n",
            "Iron Man 3\n",
            "Guardians of the Galaxy Vol. 2\n",
            "Guardians of the Galaxy\n",
            "Doctor Strange in the Multiverse of Madness\n",
            "The Avengers\n",
            "Captain America: Civil War\n",
            "Shang-Chi and the Legend of the Ten Rings\n"
          ]
        }
      ]
    },
    {
      "cell_type": "code",
      "source": [
        "with open('/content/drive/MyDrive/director_similarity.pkl', 'wb') as file:\n",
        "    pickle.dump(updated_similarity, file)"
      ],
      "metadata": {
        "id": "F8PMR_bT5f02"
      },
      "execution_count": 18,
      "outputs": []
    }
  ]
}